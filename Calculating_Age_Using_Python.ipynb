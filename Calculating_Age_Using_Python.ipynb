{
  "nbformat": 4,
  "nbformat_minor": 0,
  "metadata": {
    "colab": {
      "provenance": [],
      "authorship_tag": "ABX9TyNerIpUnd8hGZu5egCVcRuq",
      "include_colab_link": true
    },
    "kernelspec": {
      "name": "python3",
      "display_name": "Python 3"
    },
    "language_info": {
      "name": "python"
    }
  },
  "cells": [
    {
      "cell_type": "markdown",
      "metadata": {
        "id": "view-in-github",
        "colab_type": "text"
      },
      "source": [
        "<a href=\"https://colab.research.google.com/github/Projects-Analysis/Calculating-Age-Using-Python-/blob/main/Calculating_Age_Using_Python.ipynb\" target=\"_parent\"><img src=\"https://colab.research.google.com/assets/colab-badge.svg\" alt=\"Open In Colab\"/></a>"
      ]
    },
    {
      "cell_type": "markdown",
      "source": [
        "# Calculating Age Using Python: A Step-by-Step Guide"
      ],
      "metadata": {
        "id": "tZzZQTaYCc-P"
      }
    },
    {
      "cell_type": "markdown",
      "source": [
        "## Introduction\n",
        "\n",
        "Have you ever wondered how applications effortlessly calculate your age based on your birth date? The answer often lies in Python, a versatile programming language with remarkable capabilities for date and time manipulation. In this article, we'll explore a Python code snippet that accurately determines a person's age, delving into its logic and key components."
      ],
      "metadata": {
        "id": "WgONH2L3CxFu"
      }
    },
    {
      "cell_type": "markdown",
      "source": [
        "## Importing the Necessary Module\n",
        "\n",
        "##### Every Python code journey begins with importing relevant modules, which provide access to specialized functionalities. Here, we import the datetime module to work with dates."
      ],
      "metadata": {
        "id": "j2UehZZRC-uV"
      }
    },
    {
      "cell_type": "code",
      "execution_count": 1,
      "metadata": {
        "id": "EKss10F77zCj"
      },
      "outputs": [],
      "source": [
        "import datetime"
      ]
    },
    {
      "cell_type": "markdown",
      "source": [
        "## Defining the Age Calculation Function\n",
        "\n",
        "##### The crux of age calculation rests within a function named calculate_age(). It accepts a birth date as input and returns the calculated age"
      ],
      "metadata": {
        "id": "4Zro9xLYE3nS"
      }
    },
    {
      "cell_type": "code",
      "source": [
        "def calculate_age(birth_date):\n",
        "    today = datetime.date.today()\n",
        "\n",
        "    age = today.year - birth_date.year\n",
        "    if (today.month, today.day) < (birth_date.month, birth_date.day):\n",
        "     age -= 1\n",
        "     return age"
      ],
      "metadata": {
        "id": "TuIUxKSO77SI"
      },
      "execution_count": 2,
      "outputs": []
    },
    {
      "cell_type": "markdown",
      "source": [
        "## Gathering User Input and Applying the Function to Display the Result\n",
        "\n",
        "##### To personalize the age calculation, the code prompts the user to enter their birth date and displays the accurate age."
      ],
      "metadata": {
        "id": "ZY804QarFmVF"
      }
    },
    {
      "cell_type": "code",
      "source": [
        "print(\"Please enter your birth date (dd/mm/yyyy):\")\n",
        "birth_date_str = input()\n",
        "birth_date = datetime.datetime.strptime(birth_date_str, \"%d/%m/%Y\").date()\n",
        "\n",
        "age = calculate_age(birth_date)\n",
        "print(f\"You are {age} years old.\")\n"
      ],
      "metadata": {
        "colab": {
          "base_uri": "https://localhost:8080/"
        },
        "id": "NCBZQfFFBnb8",
        "outputId": "53b06b72-0e32-4b1e-ec31-d242137f6bb7"
      },
      "execution_count": 3,
      "outputs": [
        {
          "output_type": "stream",
          "name": "stdout",
          "text": [
            "Please enter your birth date (dd/mm/yyyy):\n",
            "20/03/1989\n",
            "You are 34 years old.\n"
          ]
        }
      ]
    },
    {
      "cell_type": "markdown",
      "source": [
        "### Conclusion\n",
        "\n",
        "This concise Python code demonstrates the ease of calculating age using the datetime module. It effectively handles potential edge cases, ensuring accurate age determination. By understanding these core concepts, you can confidently incorporate age calculations into your Python projects and explore further functionalities offered by the datetime module."
      ],
      "metadata": {
        "id": "kdVa24Y3LIYe"
      }
    }
  ]
}